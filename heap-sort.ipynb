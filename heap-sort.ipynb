{
 "cells": [
  {
   "cell_type": "markdown",
   "id": "28762f3b",
   "metadata": {},
   "source": [
    "# What is Heap Sort?\n",
    "---\n",
    "\n",
    "Heap sort in computer science is a comparison-based sorting algorithm. Heap sort divides it's input into a sorted and unsorted region, and repeatedly shrinks this unsorted region by extracting the largest element from it and inserting that element into the sorted region. Heap sort maintains this unsorted region in a heap data structure to more quickly find the largest element in each step.\n",
    "It was invented by J.W.J.Williams in 1964."
   ]
  },
  {
   "cell_type": "markdown",
   "id": "cea3ae72",
   "metadata": {},
   "source": [
    "---"
   ]
  },
  {
   "cell_type": "markdown",
   "id": "9e9fc996",
   "metadata": {},
   "source": [
    "# Python Implementation of Heap Sort\n",
    "---\n",
    "Below is my own implemention of the Heap Sort Algorithm using python. I wrote this by converting pseudocode into the python language as they are quite similar in structure."
   ]
  },
  {
   "cell_type": "code",
   "execution_count": 1,
   "id": "02947594",
   "metadata": {},
   "outputs": [],
   "source": [
    "def heapify(a,count):\n",
    "    start = (count-2) // 2 #((count - (count%2)) / 2) - 1 # iParent(count-1)\n",
    "    #Uses floor division using the double forward slash\n",
    "    \n",
    "    while start >= 0:\n",
    "        siftDown(a,start,count-1)\n",
    "        start = start-1"
   ]
  },
  {
   "cell_type": "code",
   "execution_count": 2,
   "id": "a75a699d",
   "metadata": {},
   "outputs": [],
   "source": [
    "def siftDown(a,start,end):\n",
    "    root = start\n",
    "    \n",
    "    while (2 * root + 1) <= end:\n",
    "        child = (2 * root + 1)\n",
    "        swap = root\n",
    "        \n",
    "        if a[swap] < a[child]:\n",
    "            swap = child\n",
    "        if child + 1 <= end and a[swap] < a[child + 1]:\n",
    "            swap = child + 1\n",
    "        if swap == root:\n",
    "            return\n",
    "        else:\n",
    "            a[root],a[swap] = a[swap], a[root]\n",
    "            root = swap"
   ]
  },
  {
   "cell_type": "code",
   "execution_count": 3,
   "id": "4b42b31a",
   "metadata": {},
   "outputs": [],
   "source": [
    "def heapsort(a):\n",
    "    count = len(a)\n",
    "    heapify(a,count)\n",
    "    end = count - 1\n",
    "    \n",
    "    while end > 0:\n",
    "        ##Swapping with Tuples.\n",
    "        a[0], a[end] = a[end],a[0]\n",
    "        end = end - 1\n",
    "        siftDown(a,0,end)"
   ]
  },
  {
   "cell_type": "code",
   "execution_count": 4,
   "id": "4d92f75d",
   "metadata": {},
   "outputs": [
    {
     "data": {
      "text/plain": [
       "[5, 1, 3, 7, 8, 9, 2]"
      ]
     },
     "execution_count": 4,
     "metadata": {},
     "output_type": "execute_result"
    }
   ],
   "source": [
    "L = [5,1,3,7,8,9,2]\n",
    "L"
   ]
  },
  {
   "cell_type": "code",
   "execution_count": 5,
   "id": "91f0dfed",
   "metadata": {},
   "outputs": [
    {
     "data": {
      "text/plain": [
       "[1, 2, 3, 5, 7, 8, 9]"
      ]
     },
     "execution_count": 5,
     "metadata": {},
     "output_type": "execute_result"
    }
   ],
   "source": [
    "heapsort(L)\n",
    "L"
   ]
  },
  {
   "cell_type": "markdown",
   "id": "03023aed",
   "metadata": {},
   "source": [
    "---"
   ]
  },
  {
   "cell_type": "markdown",
   "id": "38d93b38",
   "metadata": {},
   "source": [
    "# Computational Complexity of Heap Sort.\n",
    "---"
   ]
  },
  {
   "cell_type": "markdown",
   "id": "0b21c1bd",
   "metadata": {},
   "source": [
    "# How is Graph Theory used in Heap Sort?\n",
    "---"
   ]
  },
  {
   "cell_type": "code",
   "execution_count": null,
   "id": "90308790",
   "metadata": {},
   "outputs": [],
   "source": []
  }
 ],
 "metadata": {
  "kernelspec": {
   "display_name": "Python 3 (ipykernel)",
   "language": "python",
   "name": "python3"
  },
  "language_info": {
   "codemirror_mode": {
    "name": "ipython",
    "version": 3
   },
   "file_extension": ".py",
   "mimetype": "text/x-python",
   "name": "python",
   "nbconvert_exporter": "python",
   "pygments_lexer": "ipython3",
   "version": "3.9.7"
  }
 },
 "nbformat": 4,
 "nbformat_minor": 5
}
